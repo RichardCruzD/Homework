{
  "nbformat": 4,
  "nbformat_minor": 0,
  "metadata": {
    "colab": {
      "provenance": []
    },
    "kernelspec": {
      "name": "python3",
      "display_name": "Python 3"
    },
    "language_info": {
      "name": "python"
    }
  },
  "cells": [
    {
      "cell_type": "markdown",
      "source": [
        "#My Jupyter Notebook on IBM Watson Studio"
      ],
      "metadata": {
        "id": "6YguVBes5wak"
      }
    },
    {
      "cell_type": "markdown",
      "source": [
        "**My Name is Ricardo Daniel Cruz Dominguez**\n",
        "\n",
        "I'm Data Science"
      ],
      "metadata": {
        "id": "W4LO8BQL52By"
      }
    },
    {
      "cell_type": "markdown",
      "source": [
        "*I'm interested in data science because is the race more sex 21st century JEJE but also because i'm think which the fist pass for the A.I, what's more i'm love work with data and discover what is beyond those data, find a new vision, that's why i like it*"
      ],
      "metadata": {
        "id": "L_m-eJYG6GO8"
      }
    },
    {
      "cell_type": "markdown",
      "source": [
        "### Multiply without the multiplication sing"
      ],
      "metadata": {
        "id": "SoAHx9-j8QoA"
      }
    },
    {
      "cell_type": "code",
      "execution_count": 5,
      "metadata": {
        "colab": {
          "base_uri": "https://localhost:8080/"
        },
        "id": "0yf0pvxZ5t_O",
        "outputId": "37c2fb78-0d76-472b-ec5b-c9b0327c4c24"
      },
      "outputs": [
        {
          "output_type": "stream",
          "name": "stdout",
          "text": [
            "Multiplication table of 2\n",
            "2 * 1 = 2\n",
            "2 * 2 = 4\n",
            "2 * 3 = 6\n",
            "2 * 4 = 8\n",
            "2 * 5 = 10\n",
            "\n",
            "\n",
            "Multiplication table of 3\n",
            "3 * 1 = 3\n",
            "3 * 2 = 6\n",
            "3 * 3 = 9\n",
            "3 * 4 = 12\n",
            "3 * 5 = 15\n",
            "\n",
            "\n"
          ]
        }
      ],
      "source": [
        "for titulo in range(2 , 4):\n",
        "    print(f'Multiplication table of {titulo}')\n",
        "    for x in range(1, 5 + 1):\n",
        "        print(f'{titulo} * {x} = {titulo * x}')\n",
        "\n",
        "    print('\\n')"
      ]
    },
    {
      "cell_type": "markdown",
      "source": [
        "[Stable Diffusion](https://stability.ai/blog/stable-diffusion-public-release)\n",
        "\n",
        "![](https://images.squarespace-cdn.com/content/v1/6213c340453c3f502425776e/0715034d-4044-4c55-9131-e4bfd6dd20ca/2_4x.png)\n",
        "\n",
        "+ Chat GPT\n",
        "+ DALL.E\n",
        "+ LAMDA\n",
        "\n",
        "\n",
        "1.   Data Science\n",
        "2.   Youtube\n",
        "3.   Machine Learning\n",
        "\n",
        "\n",
        "---\n",
        "\n",
        "End :)\n",
        "\n"
      ],
      "metadata": {
        "id": "RTGc1nrN8voS"
      }
    }
  ]
}